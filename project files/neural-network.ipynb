{
 "cells": [
  {
   "cell_type": "code",
   "execution_count": 25,
   "metadata": {},
   "outputs": [],
   "source": [
    "# Python 3 notebook for neural network\n",
    "\n",
    "import numpy as np\n",
    "import math\n",
    "import statistics\n",
    "import tensorflow as tf\n",
    "from tensorflow import keras\n",
    "from tensorflow.keras import layers\n",
    "\n",
    "from keras.utils import to_categorical\n",
    "from keras.utils import plot_model\n",
    "import IPython.display\n",
    "import matplotlib.pyplot as plt\n",
    "\n",
    "import matplotlib.pyplot as plt\n",
    "import pandas as pd\n",
    "from sklearn.model_selection import train_test_split\n",
    "from sklearn.utils import shuffle\n",
    "\n",
    "import importlib\n",
    "import sys\n",
    "import pickle\n",
    "import torch\n",
    "from torch.autograd import Variable\n",
    "import torch.nn as nn\n",
    "from random import shuffle\n",
    "\n",
    "# https://machinelearningmastery.com/multi-class-classification-tutorial-keras-deep-learning-library/\n",
    "from keras.wrappers.scikit_learn import KerasClassifier\n",
    "from keras.utils import np_utils\n",
    "from sklearn.model_selection import cross_val_score\n",
    "from sklearn.model_selection import KFold\n",
    "from sklearn.preprocessing import LabelEncoder\n",
    "from sklearn.pipeline import Pipeline\n",
    "# pnn = importlib.import_module(\"pytorch-neural-network\") # Don't need this anymore, will delete later\n",
    "we = importlib.import_module(\"word_embeddings\")\n",
    "import re"
   ]
  },
  {
   "cell_type": "code",
   "execution_count": 12,
   "metadata": {},
   "outputs": [
    {
     "data": {
      "text/plain": [
       "' '"
      ]
     },
     "execution_count": 12,
     "metadata": {},
     "output_type": "execute_result"
    }
   ],
   "source": [
    "\"\"\" Global Parameters \"\"\"\n",
    "# Load some data\n",
    "wordEmbedDict = we.getWordEmbeddingDict() # Load the dictionary\n",
    "\n",
    "# Labels\n",
    "top_20 = sorted(['AskReddit', 'leagueoflegends', 'nba', 'funny', 'pics', 'nfl', 'pcmasterrace', \\\n",
    "          'videos', 'news', 'todayilearned', 'DestinyTheGame', 'worldnews', 'soccer', \\\n",
    "          'DotA2', 'AdviceAnimals', 'WTF', 'GlobalOffensive', 'hockey', 'movies', 'SquaredCircle'])\n",
    "\n",
    "# Indices of our desired data\n",
    "TRUE_LABEL = 8 # Index of the true label, hard coded\n",
    "BODY_INDEX = 17 # Index of the reddit comment, hard coded\n",
    "\n",
    "# Neural Network Parameters\n",
    "NUM_SUBREDDITS = len(top_20)\n",
    "NUM_FEATURES = 300 # length returned from embedding\n",
    "NUM_EXAMPLES = 10000 # Arbitrary, choose however many we want to grab from the dataset\n",
    "NUM_EPOCHS = 20 # plateus really fast... no need to run more epochs\n",
    "NUM_HIDDEN_NEURONS = 100\n",
    "NUM_LAYERS = 20\n",
    "LEARNING_RATE = 0.1\n",
    "\n",
    "SUBREDDIT = \"leagueoflegends\" # used for debugging,delete later\n",
    "unparsed = \"./data/condensed_dataset_SMALL.pkl\" # will change this so we can just call the whole pkl set\n",
    "\n",
    "# Seed\n",
    "# fix random seed for reproducibility\n",
    "seed = 7\n",
    "np.random.seed(seed)\n",
    "\"\"\" \"\"\""
   ]
  },
  {
   "cell_type": "code",
   "execution_count": 27,
   "metadata": {},
   "outputs": [],
   "source": [
    "'''Helper Functions'''\n",
    "# @param dir: string, directory of pickle data\n",
    "# @return dataset: unpickled dataset\n",
    "def loadPickleData(dir):\n",
    "    with open(dir, 'rb') as f:\n",
    "        dataset = pickle.load(f)\n",
    "    return dataset\n",
    "\n",
    "# Returns [X, Y] with m examples\n",
    "def loadData(pickleDir, m):\n",
    "    pickle = loadPickleData(pickleDir)\n",
    "    return vectorizeDataSet(pickle, m)\n",
    "\n",
    "def stripNonAlpha(word):\n",
    "    word = re.sub(r'\\W+', '', word)\n",
    "    return word\n",
    "\n",
    "def vectorizeWord(word):\n",
    "    word = stripNonAlpha(word)\n",
    "    keyset = wordEmbedDict.keys() # words in the dictionary\n",
    "    zeroVec = np.zeros((1, NUM_FEATURES))\n",
    "    vWord = pd.DataFrame(zeroVec)\n",
    "    \n",
    "    if word in keyset:\n",
    "        vWord = pd.DataFrame(wordEmbedDict[word]).transpose()\n",
    "    return vWord # returns zero vector if the word is not in the dictionary\n",
    "\n",
    "def vectorizeComment(body):\n",
    "    vComment = np.zeros((1, NUM_FEATURES))\n",
    "    vComment = pd.DataFrame(vComment)\n",
    "    words = body.split()\n",
    "    for word in words:\n",
    "        vWord = vectorizeWord(word)\n",
    "        vComment = vComment.add(vWord)\n",
    "        \n",
    "    mean = getMean(vComment)\n",
    "    vComment = [float(value) / mean for value in vComment]\n",
    "    return vComment\n",
    "\n",
    "# Encodes a subreddit string into an unrolled one-hot pandas vector\n",
    "def oneHotEncode(subreddit):\n",
    "    #   https://machinelearningmastery.com/multi-class-classification-tutorial-keras-deep-learning-library/\n",
    "    encoder = LabelEncoder()\n",
    "    encoder.fit(top_20) # Encodes the NUM_SUBREDDITS subreddits\n",
    "    encoded_Y = encoder.transform([subreddit])[0] # get the integer category\n",
    "    \n",
    "    oneHot = [0 for _ in range(NUM_SUBREDDITS)]\n",
    "    oneHot[encoded_Y] = 1\n",
    "    pandasOneHot = pd.DataFrame(oneHot)\n",
    "    \n",
    "    return pandasOneHot.transpose()\n",
    "    \n",
    "def vectorizeDataSet(data, m):\n",
    "    data = pd.DataFrame(data)\n",
    "    data = data.sample(frac=1, random_state=seed).reset_index(drop=True) # Shuffles data\n",
    "    comments = data.pop(BODY_INDEX)\n",
    "    true_labels = data.pop(TRUE_LABEL)\n",
    "    \n",
    "    unrollComment = comments[0]\n",
    "    X = vectorizeComment(unrollComment)\n",
    "    firstSubreddit = true_labels[0]\n",
    "    Y = oneHotEncode(firstSubreddit)\n",
    "\n",
    "    # For each example in old data set, get the actual comment and featurize it into X\n",
    "    # Also get unrolled true label\n",
    "    for i in range(1, m):\n",
    "        comment = comments[i]\n",
    "        example = vectorizeComment(comment)\n",
    "        subreddit = true_labels[i]\n",
    "        oneHot = oneHotEncode(subreddit)\n",
    "        \n",
    "        X = pd.concat([X, example])\n",
    "        Y = pd.concat([Y, oneHot])\n",
    "    return pd.concat([X, Y], axis=1)"
   ]
  },
  {
   "cell_type": "code",
   "execution_count": 26,
   "metadata": {},
   "outputs": [],
   "source": [
    "# Normalization of dataset\n",
    "\n",
    "# Get mean of a column feature\n",
    "def getMean(column):\n",
    "    sum = 0\n",
    "    n = len(column)\n",
    "    for i in range(n):\n",
    "        sum += column.iloc[i]\n",
    "    mean = sum / float(n)\n",
    "    return mean\n",
    "\n",
    "def getVariance(column, mean):\n",
    "    squareMeanSum = 0\n",
    "    n = len(column)\n",
    "    for i in range(n):\n",
    "        squareMeanSum += (column.iloc[i] - mean)**2\n",
    "    var = math.sqrt(squareMeanSum / float(n))\n",
    "    return var\n",
    "\n",
    "def normalizeSet(set):\n",
    "    numRow = len(set.index)\n",
    "    numCol = len(set.columns)\n",
    "    for col in range(numCol):\n",
    "        column = set.iloc[:,col]\n",
    "        mean = getMean(column)\n",
    "        var = getVariance(column, mean)\n",
    "        \n",
    "        for row in range(numRow):\n",
    "            set.iloc[row, col] = float(set.iloc[row, col] - mean) / var\n",
    "    return set\n"
   ]
  },
  {
   "cell_type": "code",
   "execution_count": 28,
   "metadata": {},
   "outputs": [],
   "source": [
    "# Split dataset\n",
    "#https://stackoverflow.com/questions/38250710/how-to-split-data-into-3-sets-train-validation-and-test/38251213#38251213\n",
    "def train_validate_test_split(df, train_percent=.9, validate_percent=.05, seed=seed):\n",
    "    m = len(df.index)\n",
    "    \n",
    "    train_end = int(train_percent * m)\n",
    "    validate_end = int(validate_percent * m) + train_end\n",
    "    train = df.iloc[:train_end]\n",
    "    validate = df.iloc[train_end:validate_end]\n",
    "    test = df.loc[validate_end:]\n",
    "    return train, validate, test"
   ]
  },
  {
   "cell_type": "code",
   "execution_count": 6,
   "metadata": {},
   "outputs": [
    {
     "name": "stdout",
     "output_type": "stream",
     "text": [
      "CPU times: user 7min 25s, sys: 2min 44s, total: 10min 10s\n",
      "Wall time: 10min 10s\n"
     ]
    }
   ],
   "source": [
    "%%time\n",
    "df = loadData(unparsed, NUM_EXAMPLES)\n",
    "train, validate, test = train_validate_test_split(df)\n",
    "\n",
    "train_labels = train.iloc[:, NUM_FEATURES:]\n",
    "validate_labels = validate.iloc[:, NUM_FEATURES:]\n",
    "test_labels = test.iloc[:, NUM_FEATURES:]\n",
    "\n",
    "train = train.iloc[:, :NUM_FEATURES]\n",
    "validate = validate.iloc[:, :NUM_FEATURES]\n",
    "test = test.iloc[:, :NUM_FEATURES]\n",
    "\n",
    "# normed_train = normalizeSet(train)\n",
    "# normed_validate = normalizeSet(validate)\n",
    "# normed_test = normalizeSet(test)"
   ]
  },
  {
   "cell_type": "code",
   "execution_count": 11,
   "metadata": {},
   "outputs": [
    {
     "name": "stdout",
     "output_type": "stream",
     "text": [
      "CPU times: user 0 ns, sys: 109 ms, total: 109 ms\n",
      "Wall time: 197 ms\n"
     ]
    }
   ],
   "source": [
    "# %%time\n",
    "# # Save the dataframe as a pickle file to be read later\n",
    "# df.to_pickle(\"./data/pandas-pickle-small.pkl\")"
   ]
  },
  {
   "cell_type": "code",
   "execution_count": 29,
   "metadata": {},
   "outputs": [
    {
     "name": "stdout",
     "output_type": "stream",
     "text": [
      "CPU times: user 0 ns, sys: 0 ns, total: 0 ns\n",
      "Wall time: 20.7 µs\n"
     ]
    }
   ],
   "source": [
    "%%time\n",
    "# Neural network function\n",
    "def build_nn(hidden_layer_sizes):\n",
    "    model = keras.Sequential()\n",
    "    \n",
    "    # Input layer\n",
    "    model.add(layers.Dense(hidden_layer_sizes[0], input_dim=NUM_FEATURES, activation='relu'))\n",
    "    \n",
    "#      https://datascience.stackexchange.com/questions/19407/keras-built-in-multi-layer-shortcut\n",
    "#     Hidden layers\n",
    "    for size in hidden_layer_sizes[1:]:\n",
    "        model.add(layers.Dense(size, activation='relu'))\n",
    "    \n",
    "    # Output layer\n",
    "    model.add(layers.Dense(NUM_SUBREDDITS, activation='softmax'))\n",
    "    \n",
    "    # Optimizer. Can change this to whatever we want\n",
    "    optimizer = tf.keras.optimizers.Adam(lr=LEARNING_RATE)\n",
    "\n",
    "    # Compile model\n",
    "    model.compile(loss='categorical_crossentropy', optimizer=optimizer, metrics=['accuracy', 'categorical_crossentropy'])\n",
    "    return model"
   ]
  },
  {
   "cell_type": "code",
   "execution_count": 30,
   "metadata": {},
   "outputs": [
    {
     "name": "stdout",
     "output_type": "stream",
     "text": [
      "_________________________________________________________________\n",
      "Layer (type)                 Output Shape              Param #   \n",
      "=================================================================\n",
      "dense_44 (Dense)             (None, 100)               30100     \n",
      "_________________________________________________________________\n",
      "dense_45 (Dense)             (None, 100)               10100     \n",
      "_________________________________________________________________\n",
      "dense_46 (Dense)             (None, 100)               10100     \n",
      "_________________________________________________________________\n",
      "dense_47 (Dense)             (None, 100)               10100     \n",
      "_________________________________________________________________\n",
      "dense_48 (Dense)             (None, 100)               10100     \n",
      "_________________________________________________________________\n",
      "dense_49 (Dense)             (None, 100)               10100     \n",
      "_________________________________________________________________\n",
      "dense_50 (Dense)             (None, 100)               10100     \n",
      "_________________________________________________________________\n",
      "dense_51 (Dense)             (None, 100)               10100     \n",
      "_________________________________________________________________\n",
      "dense_52 (Dense)             (None, 100)               10100     \n",
      "_________________________________________________________________\n",
      "dense_53 (Dense)             (None, 100)               10100     \n",
      "_________________________________________________________________\n",
      "dense_54 (Dense)             (None, 100)               10100     \n",
      "_________________________________________________________________\n",
      "dense_55 (Dense)             (None, 100)               10100     \n",
      "_________________________________________________________________\n",
      "dense_56 (Dense)             (None, 100)               10100     \n",
      "_________________________________________________________________\n",
      "dense_57 (Dense)             (None, 100)               10100     \n",
      "_________________________________________________________________\n",
      "dense_58 (Dense)             (None, 100)               10100     \n",
      "_________________________________________________________________\n",
      "dense_59 (Dense)             (None, 100)               10100     \n",
      "_________________________________________________________________\n",
      "dense_60 (Dense)             (None, 100)               10100     \n",
      "_________________________________________________________________\n",
      "dense_61 (Dense)             (None, 100)               10100     \n",
      "_________________________________________________________________\n",
      "dense_62 (Dense)             (None, 100)               10100     \n",
      "_________________________________________________________________\n",
      "dense_63 (Dense)             (None, 100)               10100     \n",
      "_________________________________________________________________\n",
      "dense_64 (Dense)             (None, 20)                2020      \n",
      "=================================================================\n",
      "Total params: 224,020\n",
      "Trainable params: 224,020\n",
      "Non-trainable params: 0\n",
      "_________________________________________________________________\n",
      "CPU times: user 516 ms, sys: 0 ns, total: 516 ms\n",
      "Wall time: 518 ms\n"
     ]
    }
   ],
   "source": [
    "%%time\n",
    "# Build the model\n",
    "sizes_list = [NUM_HIDDEN_NEURONS for i in range(NUM_LAYERS)]\n",
    "nn_model = build_nn(sizes_list)\n",
    "nn_model.summary()"
   ]
  },
  {
   "cell_type": "code",
   "execution_count": 31,
   "metadata": {},
   "outputs": [
    {
     "name": "stdout",
     "output_type": "stream",
     "text": [
      "Train on 9000 samples, validate on 500 samples\n",
      "Epoch 1/20\n",
      "9000/9000 [==============================] - 3s 284us/sample - loss: 15.2619 - acc: 0.0503 - categorical_crossentropy: 15.2619 - val_loss: 15.1510 - val_acc: 0.0600 - val_categorical_crossentropy: 15.1510\n",
      "Epoch 2/20\n",
      "9000/9000 [==============================] - 2s 195us/sample - loss: 15.3122 - acc: 0.0500 - categorical_crossentropy: 15.3122 - val_loss: 15.1510 - val_acc: 0.0600 - val_categorical_crossentropy: 15.1510\n",
      "Epoch 3/20\n",
      "9000/9000 [==============================] - 2s 194us/sample - loss: 15.3122 - acc: 0.0500 - categorical_crossentropy: 15.3122 - val_loss: 15.1510 - val_acc: 0.0600 - val_categorical_crossentropy: 15.1510\n",
      "Epoch 4/20\n",
      "9000/9000 [==============================] - 2s 198us/sample - loss: 15.3122 - acc: 0.0500 - categorical_crossentropy: 15.3122 - val_loss: 15.1510 - val_acc: 0.0600 - val_categorical_crossentropy: 15.1510\n",
      "Epoch 5/20\n",
      "9000/9000 [==============================] - 2s 202us/sample - loss: 15.3122 - acc: 0.0500 - categorical_crossentropy: 15.3122 - val_loss: 15.1510 - val_acc: 0.0600 - val_categorical_crossentropy: 15.1510\n",
      "Epoch 6/20\n",
      " 544/9000 [>.............................] - ETA: 1s - loss: 15.4959 - acc: 0.0386 - categorical_crossentropy: 15.4959  "
     ]
    },
    {
     "ename": "KeyboardInterrupt",
     "evalue": "",
     "output_type": "error",
     "traceback": [
      "\u001b[0;31m---------------------------------------------------------------------------\u001b[0m",
      "\u001b[0;31mKeyboardInterrupt\u001b[0m                         Traceback (most recent call last)",
      "\u001b[0;32m<timed exec>\u001b[0m in \u001b[0;36m<module>\u001b[0;34m\u001b[0m\n",
      "\u001b[0;32m~/.local/lib/python3.6/site-packages/tensorflow/python/keras/engine/training.py\u001b[0m in \u001b[0;36mfit\u001b[0;34m(self, x, y, batch_size, epochs, verbose, callbacks, validation_split, validation_data, shuffle, class_weight, sample_weight, initial_epoch, steps_per_epoch, validation_steps, max_queue_size, workers, use_multiprocessing, **kwargs)\u001b[0m\n\u001b[1;32m    878\u001b[0m           \u001b[0minitial_epoch\u001b[0m\u001b[0;34m=\u001b[0m\u001b[0minitial_epoch\u001b[0m\u001b[0;34m,\u001b[0m\u001b[0;34m\u001b[0m\u001b[0;34m\u001b[0m\u001b[0m\n\u001b[1;32m    879\u001b[0m           \u001b[0msteps_per_epoch\u001b[0m\u001b[0;34m=\u001b[0m\u001b[0msteps_per_epoch\u001b[0m\u001b[0;34m,\u001b[0m\u001b[0;34m\u001b[0m\u001b[0;34m\u001b[0m\u001b[0m\n\u001b[0;32m--> 880\u001b[0;31m           validation_steps=validation_steps)\n\u001b[0m\u001b[1;32m    881\u001b[0m \u001b[0;34m\u001b[0m\u001b[0m\n\u001b[1;32m    882\u001b[0m   def evaluate(self,\n",
      "\u001b[0;32m~/.local/lib/python3.6/site-packages/tensorflow/python/keras/engine/training_arrays.py\u001b[0m in \u001b[0;36mmodel_iteration\u001b[0;34m(model, inputs, targets, sample_weights, batch_size, epochs, verbose, callbacks, val_inputs, val_targets, val_sample_weights, shuffle, initial_epoch, steps_per_epoch, validation_steps, mode, validation_in_fit, **kwargs)\u001b[0m\n\u001b[1;32m    327\u001b[0m \u001b[0;34m\u001b[0m\u001b[0m\n\u001b[1;32m    328\u001b[0m         \u001b[0;31m# Get outputs.\u001b[0m\u001b[0;34m\u001b[0m\u001b[0;34m\u001b[0m\u001b[0;34m\u001b[0m\u001b[0m\n\u001b[0;32m--> 329\u001b[0;31m         \u001b[0mbatch_outs\u001b[0m \u001b[0;34m=\u001b[0m \u001b[0mf\u001b[0m\u001b[0;34m(\u001b[0m\u001b[0mins_batch\u001b[0m\u001b[0;34m)\u001b[0m\u001b[0;34m\u001b[0m\u001b[0;34m\u001b[0m\u001b[0m\n\u001b[0m\u001b[1;32m    330\u001b[0m         \u001b[0;32mif\u001b[0m \u001b[0;32mnot\u001b[0m \u001b[0misinstance\u001b[0m\u001b[0;34m(\u001b[0m\u001b[0mbatch_outs\u001b[0m\u001b[0;34m,\u001b[0m \u001b[0mlist\u001b[0m\u001b[0;34m)\u001b[0m\u001b[0;34m:\u001b[0m\u001b[0;34m\u001b[0m\u001b[0;34m\u001b[0m\u001b[0m\n\u001b[1;32m    331\u001b[0m           \u001b[0mbatch_outs\u001b[0m \u001b[0;34m=\u001b[0m \u001b[0;34m[\u001b[0m\u001b[0mbatch_outs\u001b[0m\u001b[0;34m]\u001b[0m\u001b[0;34m\u001b[0m\u001b[0;34m\u001b[0m\u001b[0m\n",
      "\u001b[0;32m~/.local/lib/python3.6/site-packages/tensorflow/python/keras/backend.py\u001b[0m in \u001b[0;36m__call__\u001b[0;34m(self, inputs)\u001b[0m\n\u001b[1;32m   3074\u001b[0m \u001b[0;34m\u001b[0m\u001b[0m\n\u001b[1;32m   3075\u001b[0m     fetched = self._callable_fn(*array_vals,\n\u001b[0;32m-> 3076\u001b[0;31m                                 run_metadata=self.run_metadata)\n\u001b[0m\u001b[1;32m   3077\u001b[0m     \u001b[0mself\u001b[0m\u001b[0;34m.\u001b[0m\u001b[0m_call_fetch_callbacks\u001b[0m\u001b[0;34m(\u001b[0m\u001b[0mfetched\u001b[0m\u001b[0;34m[\u001b[0m\u001b[0;34m-\u001b[0m\u001b[0mlen\u001b[0m\u001b[0;34m(\u001b[0m\u001b[0mself\u001b[0m\u001b[0;34m.\u001b[0m\u001b[0m_fetches\u001b[0m\u001b[0;34m)\u001b[0m\u001b[0;34m:\u001b[0m\u001b[0;34m]\u001b[0m\u001b[0;34m)\u001b[0m\u001b[0;34m\u001b[0m\u001b[0;34m\u001b[0m\u001b[0m\n\u001b[1;32m   3078\u001b[0m     return nest.pack_sequence_as(self._outputs_structure,\n",
      "\u001b[0;32m~/.local/lib/python3.6/site-packages/tensorflow/python/client/session.py\u001b[0m in \u001b[0;36m__call__\u001b[0;34m(self, *args, **kwargs)\u001b[0m\n\u001b[1;32m   1437\u001b[0m           ret = tf_session.TF_SessionRunCallable(\n\u001b[1;32m   1438\u001b[0m               \u001b[0mself\u001b[0m\u001b[0;34m.\u001b[0m\u001b[0m_session\u001b[0m\u001b[0;34m.\u001b[0m\u001b[0m_session\u001b[0m\u001b[0;34m,\u001b[0m \u001b[0mself\u001b[0m\u001b[0;34m.\u001b[0m\u001b[0m_handle\u001b[0m\u001b[0;34m,\u001b[0m \u001b[0margs\u001b[0m\u001b[0;34m,\u001b[0m \u001b[0mstatus\u001b[0m\u001b[0;34m,\u001b[0m\u001b[0;34m\u001b[0m\u001b[0;34m\u001b[0m\u001b[0m\n\u001b[0;32m-> 1439\u001b[0;31m               run_metadata_ptr)\n\u001b[0m\u001b[1;32m   1440\u001b[0m         \u001b[0;32mif\u001b[0m \u001b[0mrun_metadata\u001b[0m\u001b[0;34m:\u001b[0m\u001b[0;34m\u001b[0m\u001b[0;34m\u001b[0m\u001b[0m\n\u001b[1;32m   1441\u001b[0m           \u001b[0mproto_data\u001b[0m \u001b[0;34m=\u001b[0m \u001b[0mtf_session\u001b[0m\u001b[0;34m.\u001b[0m\u001b[0mTF_GetBuffer\u001b[0m\u001b[0;34m(\u001b[0m\u001b[0mrun_metadata_ptr\u001b[0m\u001b[0;34m)\u001b[0m\u001b[0;34m\u001b[0m\u001b[0;34m\u001b[0m\u001b[0m\n",
      "\u001b[0;31mKeyboardInterrupt\u001b[0m: "
     ]
    }
   ],
   "source": [
    "%%time\n",
    "# Buggy. Loss goes constant after a while :(\n",
    "# Get neural network history\n",
    "# History is the progress of our neural network, will be used to plot cost functions\n",
    "# nn_history = KerasClassifier(build_fn=nn_model, epochs=NUM_EPOCHS, verbose=2) doesnt work :(\n",
    "nn_history = nn_model.fit(train, train_labels, epochs=NUM_EPOCHS, verbose=1,\n",
    "         validation_data=(validate, validate_labels))"
   ]
  },
  {
   "cell_type": "code",
   "execution_count": 19,
   "metadata": {},
   "outputs": [
    {
     "data": {
      "image/png": "[encoded data removed]",
      "text/plain": [
       "<matplotlib.figure.Figure at 0x7f5d3bac2e48>"
      ]
     },
     "metadata": {
      "needs_background": "light"
     },
     "output_type": "display_data"
    }
   ],
   "source": [
    "# Plot metrics\n",
    "def plot_history(history):\n",
    "    hist = pd.DataFrame(history.history)\n",
    "    hist['epoch'] = history.epoch\n",
    "\n",
    "    plt.figure()\n",
    "    plt.xlabel('Epoch')\n",
    "    plt.ylabel('Cross Entropy Error')\n",
    "    plt.plot(hist['epoch'], hist['categorical_crossentropy'],\n",
    "           label='Train Error')\n",
    "    plt.plot(hist['epoch'], hist['val_categorical_crossentropy'],\n",
    "           label = 'Val Error')\n",
    "    plt.ylim([1,20])\n",
    "    plt.legend()\n",
    "    plt.show()\n",
    "    \n",
    "plot_history(nn_history)"
   ]
  },
  {
   "cell_type": "code",
   "execution_count": 17,
   "metadata": {},
   "outputs": [
    {
     "name": "stdout",
     "output_type": "stream",
     "text": [
      "Final accuracy: 4.911111295223236%\n"
     ]
    }
   ],
   "source": [
    "# See accuracy\n",
    "hist = pd.DataFrame(nn_history.history)\n",
    "accuracy_vec = hist.pop(\"acc\")\n",
    "finalAcc = accuracy_vec[len(accuracy_vec) - 1]\n",
    "print(\"Final accuracy: {}%\".format(finalAcc*100))"
   ]
  }
 ],
 "metadata": {
  "kernelspec": {
   "display_name": "Python 3",
   "language": "python",
   "name": "python3"
  },
  "language_info": {
   "codemirror_mode": {
    "name": "ipython",
    "version": 3
   },
   "file_extension": ".py",
   "mimetype": "text/x-python",
   "name": "python",
   "nbconvert_exporter": "python",
   "pygments_lexer": "ipython3",
   "version": "3.6.7"
  }
 },
 "nbformat": 4,
 "nbformat_minor": 2
}
